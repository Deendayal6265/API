{
  "nbformat": 4,
  "nbformat_minor": 0,
  "metadata": {
    "colab": {
      "name": "API .ipynb",
      "provenance": [],
      "authorship_tag": "ABX9TyMTnlkej6N8Dltm6oNzxsPe",
      "include_colab_link": true
    },
    "kernelspec": {
      "name": "python3",
      "display_name": "Python 3"
    },
    "language_info": {
      "name": "python"
    }
  },
  "cells": [
    {
      "cell_type": "markdown",
      "metadata": {
        "id": "view-in-github",
        "colab_type": "text"
      },
      "source": [
        "<a href=\"https://colab.research.google.com/github/Deendayal6265/API/blob/main/API_.ipynb\" target=\"_parent\"><img src=\"https://colab.research.google.com/assets/colab-badge.svg\" alt=\"Open In Colab\"/></a>"
      ]
    },
    {
      "cell_type": "code",
      "execution_count": null,
      "metadata": {
        "colab": {
          "base_uri": "https://localhost:8080/"
        },
        "id": "o7CEsOuwTwg2",
        "outputId": "a3001b77-aa92-4b0b-a5b5-f6c363b75829"
      },
      "outputs": [
        {
          "output_type": "stream",
          "name": "stdout",
          "text": [
            "<Response [200]>\n",
            "None\n",
            "https://codingninjas.in/api/v3/courses\n",
            "{'Date': 'Fri, 11 Feb 2022 08:37:41 GMT', 'Content-Type': 'application/json', 'Transfer-Encoding': 'chunked', 'Connection': 'keep-alive', 'Server': 'nginx', 'X-Frame-Options': 'SAMEORIGIN', 'X-XSS-Protection': '1; mode=block', 'X-Content-Type-Options': 'nosniff', 'Access-Control-Allow-Origin': '*', 'Access-Control-Allow-Methods': 'POST, GET, PATCH, PUT, DELETE, OPTIONS', 'Access-Control-Allow-Headers': 'Access-Control-Allow-Headers, Origin,Accept, X-Requested-With, Content-Type, Access-Control-Request-Method, Access-Control-Request-Headers, Authorization', 'Access-Control-Max-Age': '1728000', 'Vary': 'Accept-Encoding', 'Content-Encoding': 'gzip', 'ETag': 'W/\"6645da932313889770163d325caebb2b\"', 'Cache-Control': 'max-age=0, private, must-revalidate', 'X-Request-Id': '72ba8961-571c-4e92-8b7a-f60462119ee2', 'X-Runtime': '0.009314', 'Strict-Transport-Security': 'max-age=31536000; includeSubDomains;'}\n",
            "<class 'requests.structures.CaseInsensitiveDict'>\n",
            "application/json\n"
          ]
        }
      ],
      "source": [
        "import requests\n",
        "response = requests.get(\"https://codingninjas.in/api/v3/courses\")\n",
        "print(response)\n",
        "print(response.encoding)\n",
        "#print(response.text)\n",
        "print(response.url)\n",
        "print(response.headers)\n",
        "print(type(response.headers))\n",
        "print(response.headers['Content-Type'])\n"
      ]
    },
    {
      "cell_type": "code",
      "source": [
        "import json\n",
        "json_data = '{\"student\":{\"name\":\"deendayal\",\"Roll_no\": 19}}'\n",
        "python_data = json.loads(json_data)\n",
        "\n",
        "student_info = python_data['student']\n",
        "\n",
        "print(student_info['name'])\n",
        "print(student_info[\"Roll_no\"])\n"
      ],
      "metadata": {
        "colab": {
          "base_uri": "https://localhost:8080/"
        },
        "id": "P7y9PYEue6w3",
        "outputId": "969f6044-2466-44db-d963-e0c6b768a7be"
      },
      "execution_count": null,
      "outputs": [
        {
          "output_type": "stream",
          "name": "stdout",
          "text": [
            "deendayal\n",
            "19\n"
          ]
        }
      ]
    },
    {
      "cell_type": "code",
      "source": [
        "import json\n",
        "json_data= response.text\n",
        "print(type(json_data))\n",
        "python_data= json.loads(json_data)\n",
        "print(type(python_data))\n",
        "python_data"
      ],
      "metadata": {
        "colab": {
          "base_uri": "https://localhost:8080/"
        },
        "id": "hF8GxwbIcwiZ",
        "outputId": "22b0c2dd-6c7a-4d67-f202-c5b79dfc1548"
      },
      "execution_count": null,
      "outputs": [
        {
          "output_type": "stream",
          "name": "stdout",
          "text": [
            "<class 'str'>\n",
            "<class 'dict'>\n"
          ]
        },
        {
          "output_type": "execute_result",
          "data": {
            "text/plain": [
              "{'data': {'course_groups': [{'course_ids': [1, 73, 2, 4, 66, 10, 11, 21],\n",
              "    'id': 1,\n",
              "    'is_independent': False,\n",
              "    'json_data': {'color': '#FFEBC2',\n",
              "     'image_link': 'https://ninjasfiles.s3.amazonaws.com/0000000000003821.png',\n",
              "     'mobile_short_description': 'Foundation courses are designed such that\\xa0<span>no prerequisites are required.</span>',\n",
              "     'short_description': 'Foundation courses are designed such that\\xa0<strong>no prerequisites are required.</strong>\\xa0Data Structures(DS) and Algorithms(algo.) parts build on the basics to give you a\\xa0<strong>solid programming foundation</strong>.\\xa0Competitive is where you start to\\xa0<strong>push the boundaries!</strong>',\n",
              "     'text_color': '#AC933C'},\n",
              "    'name': 'Foundation, Algorithmic & Advanced',\n",
              "    'order': 1},\n",
              "   {'course_ids': [6, 34, 12, 13, 33],\n",
              "    'id': 2,\n",
              "    'is_independent': False,\n",
              "    'json_data': {'color': '#80D4B1',\n",
              "     'image_link': 'https://files.codingninjas.in/0000000000003846.svg',\n",
              "     'mobile_short_description': 'Data courses dwell in the state of the art algorithms and require good knowledge of programming fundamentals. Web development courses use modern JavaScript to build powerful and fast applications from the ground up.\\xa0<span>No prior development experience needed</span>',\n",
              "     'short_description': 'Data courses dwell in the state of the art algorithms and require good knowledge of programming fundamentals. Web development courses use modern JavaScript to build powerful and fast applications from the ground up.\\xa0<strong>No prior development experience needed</strong>',\n",
              "     'text_color': '#257D68'},\n",
              "    'name': 'Data & Development',\n",
              "    'order': 2},\n",
              "   {'course_ids': [16, 35, 36, 17, 18, 19],\n",
              "    'id': 3,\n",
              "    'is_independent': True,\n",
              "    'json_data': {'color': '#C898FF',\n",
              "     'image_link': 'https://files.codingninjas.in/0000000000003845.svg',\n",
              "     'mobile_short_description': 'Each track is designed specifically to cater to a particular goal you can choose and\\xa0<span>covers everything you need to learn and assumes no prior knowledge.</span>',\n",
              "     'short_description': 'These are courses that take you from\\xa0<strong>zero to hero</strong>. Each track is designed specifically to cater to a particular goal you can choose and\\xa0<strong>covers everything you need to learn and assumes no prior knowledge.</strong>',\n",
              "     'text_color': '#603CAC'},\n",
              "    'name': 'Career Track',\n",
              "    'order': 3},\n",
              "   {'course_ids': [41, 44, 40, 45, 42, 43],\n",
              "    'id': 7,\n",
              "    'is_independent': True,\n",
              "    'json_data': None,\n",
              "    'name': 'Premium Course',\n",
              "    'order': None}],\n",
              "  'courses': [{'available_offline': False,\n",
              "    'available_online': True,\n",
              "    'brief_intro': '',\n",
              "    'classroom_icon_url': 'https://files.codingninjas.in/0000000000003765.png',\n",
              "    'course_group_id': 7,\n",
              "    'id': 41,\n",
              "    'is_career_track': False,\n",
              "    'level': 'Foundation Courses',\n",
              "    'name': 'Premium Competitive Programming Course',\n",
              "    'offline_title': '',\n",
              "    'online_title': 'premium-competitive-course',\n",
              "    'preview_image_url': '',\n",
              "    'title': 'Premium Competitive Course'},\n",
              "   {'available_offline': False,\n",
              "    'available_online': True,\n",
              "    'brief_intro': 'Competitive Track',\n",
              "    'classroom_icon_url': 'https://files.codingninjas.in/0000000000003775.png',\n",
              "    'course_group_id': 3,\n",
              "    'id': 16,\n",
              "    'is_career_track': True,\n",
              "    'level': 'Career Tracks',\n",
              "    'name': 'Ninja Competitive Programmer Track',\n",
              "    'offline_title': '',\n",
              "    'online_title': 'online-competitive-programming-track',\n",
              "    'preview_image_url': 'https://files.codingninjas.in/0000000000001177.png',\n",
              "    'title': 'Competitive Programmer'},\n",
              "   {'available_offline': False,\n",
              "    'available_online': True,\n",
              "    'brief_intro': '',\n",
              "    'classroom_icon_url': 'https://files.codingninjas.in/0000000000003765.png',\n",
              "    'course_group_id': 7,\n",
              "    'id': 44,\n",
              "    'is_career_track': False,\n",
              "    'level': 'Foundation Courses',\n",
              "    'name': 'Premium Machine Learning Course',\n",
              "    'offline_title': '',\n",
              "    'online_title': 'premium-machine-learning-course',\n",
              "    'preview_image_url': '',\n",
              "    'title': 'Premium Machine Learning Course'},\n",
              "   {'available_offline': False,\n",
              "    'available_online': True,\n",
              "    'brief_intro': '',\n",
              "    'classroom_icon_url': 'https://files.codingninjas.in/0000000000003765.png',\n",
              "    'course_group_id': 7,\n",
              "    'id': 40,\n",
              "    'is_career_track': False,\n",
              "    'level': 'Foundation Courses',\n",
              "    'name': 'Premium Data structures and Algorithms [C++/Java/Python]',\n",
              "    'offline_title': '',\n",
              "    'online_title': 'premium-foundation-course',\n",
              "    'preview_image_url': '',\n",
              "    'title': 'Data structures and Algorithms [C++/Java/Python]'},\n",
              "   {'available_offline': False,\n",
              "    'available_online': True,\n",
              "    'brief_intro': '',\n",
              "    'classroom_icon_url': 'https://files.codingninjas.in/0000000000003765.png',\n",
              "    'course_group_id': 7,\n",
              "    'id': 45,\n",
              "    'is_career_track': False,\n",
              "    'level': 'Foundation Courses',\n",
              "    'name': 'Premium Android App Development',\n",
              "    'offline_title': '',\n",
              "    'online_title': 'premium-android-app-development-course',\n",
              "    'preview_image_url': '',\n",
              "    'title': 'Premium Android Course'},\n",
              "   {'available_offline': False,\n",
              "    'available_online': True,\n",
              "    'brief_intro': '',\n",
              "    'classroom_icon_url': 'https://files.codingninjas.in/0000000000003765.png',\n",
              "    'course_group_id': 7,\n",
              "    'id': 42,\n",
              "    'is_career_track': False,\n",
              "    'level': 'Foundation Courses',\n",
              "    'name': 'Premium Full Stack Web Development',\n",
              "    'offline_title': '',\n",
              "    'online_title': 'premium-full-stack-web-development-course',\n",
              "    'preview_image_url': '',\n",
              "    'title': 'Premium Web Dev Course'},\n",
              "   {'available_offline': False,\n",
              "    'available_online': True,\n",
              "    'brief_intro': '',\n",
              "    'classroom_icon_url': 'https://files.codingninjas.in/0000000000003765.png',\n",
              "    'course_group_id': 7,\n",
              "    'id': 43,\n",
              "    'is_career_track': False,\n",
              "    'level': 'Foundation Courses',\n",
              "    'name': 'Premium Data Science Course',\n",
              "    'offline_title': '',\n",
              "    'online_title': 'premium-data-science-course',\n",
              "    'preview_image_url': '',\n",
              "    'title': 'Premium Data Science Course'},\n",
              "   {'available_offline': False,\n",
              "    'available_online': True,\n",
              "    'brief_intro': 'Brief Intro',\n",
              "    'classroom_icon_url': 'https://files.codingninjas.in/0000000000003771.png',\n",
              "    'course_group_id': 1,\n",
              "    'id': 1,\n",
              "    'is_career_track': False,\n",
              "    'level': 'Foundation Courses',\n",
              "    'name': 'C++ Foundation with Data Structures',\n",
              "    'offline_title': 'classroom-c-plus-plus-course',\n",
              "    'online_title': 'onlline-c-plus-plus-course',\n",
              "    'preview_image_url': 'https://files.codingninjas.in/0000000000001176.png',\n",
              "    'title': 'C++ & Data Structures'},\n",
              "   {'available_offline': False,\n",
              "    'available_online': True,\n",
              "    'brief_intro': 'Machine learning engineers build, implement, and maintain machine learning systems in technology products.',\n",
              "    'classroom_icon_url': 'https://files.codingninjas.in/0000000000003766.png',\n",
              "    'course_group_id': 2,\n",
              "    'id': 6,\n",
              "    'is_career_track': False,\n",
              "    'level': 'Advanced Courses',\n",
              "    'name': 'Machine Learning & Deep Learning Course',\n",
              "    'offline_title': 'classroom-machine-learning-course',\n",
              "    'online_title': 'online-machine-learning-course',\n",
              "    'preview_image_url': 'https://ninjasfiles.s3.amazonaws.com/0000000000001181.png',\n",
              "    'title': 'Machine Learning'},\n",
              "   {'available_offline': False,\n",
              "    'available_online': True,\n",
              "    'brief_intro': 'Advanced  Front-End Web Development with React',\n",
              "    'classroom_icon_url': 'https://files.codingninjas.in/0000000000003769.png',\n",
              "    'course_group_id': 2,\n",
              "    'id': 34,\n",
              "    'is_career_track': False,\n",
              "    'level': 'Development Courses',\n",
              "    'name': 'Advanced  Front-End Web Development with React',\n",
              "    'offline_title': '',\n",
              "    'online_title': 'online-web-dev-with-react',\n",
              "    'preview_image_url': 'https://ninjasfiles.s3.amazonaws.com/0000000000001179.png',\n",
              "    'title': 'Front End (React)'},\n",
              "   {'available_offline': False,\n",
              "    'available_online': True,\n",
              "    'brief_intro': 'Brief Intro',\n",
              "    'classroom_icon_url': 'https://files.codingninjas.com/system-design-icon-11401.svg',\n",
              "    'course_group_id': 1,\n",
              "    'id': 73,\n",
              "    'is_career_track': False,\n",
              "    'level': 'Foundation Courses',\n",
              "    'name': 'System Design Course',\n",
              "    'offline_title': '',\n",
              "    'online_title': 'system-design-course',\n",
              "    'preview_image_url': 'https://ninjasfiles.s3.amazonaws.com/0000000000001178.png',\n",
              "    'title': 'System Design Course'},\n",
              "   {'available_offline': False,\n",
              "    'available_online': True,\n",
              "    'brief_intro': 'Brief Intro',\n",
              "    'classroom_icon_url': 'https://files.codingninjas.in/0000000000003772.png',\n",
              "    'course_group_id': 1,\n",
              "    'id': 2,\n",
              "    'is_career_track': False,\n",
              "    'level': 'Foundation Courses',\n",
              "    'name': 'JAVA Foundation with Data Structures',\n",
              "    'offline_title': 'classroom-java-course',\n",
              "    'online_title': 'online-java-course',\n",
              "    'preview_image_url': 'https://ninjasfiles.s3.amazonaws.com/0000000000001255.png',\n",
              "    'title': 'Java & Data Structures'},\n",
              "   {'available_offline': False,\n",
              "    'available_online': True,\n",
              "    'brief_intro': 'beginner to pro Android Developer!',\n",
              "    'classroom_icon_url': 'https://files.codingninjas.in/0000000000003774.png',\n",
              "    'course_group_id': 3,\n",
              "    'id': 35,\n",
              "    'is_career_track': True,\n",
              "    'level': 'Career Tracks',\n",
              "    'name': 'Ninja Android Developer Career Track ',\n",
              "    'offline_title': '',\n",
              "    'online_title': 'online-android-development-career-track',\n",
              "    'preview_image_url': 'https://ninjasfiles.s3.amazonaws.com/0000000000001175.png',\n",
              "    'title': 'Android Developer'},\n",
              "   {'available_offline': False,\n",
              "    'available_online': True,\n",
              "    'brief_intro': 'Web Development',\n",
              "    'classroom_icon_url': 'https://files.codingninjas.in/0000000000003764.png',\n",
              "    'course_group_id': 2,\n",
              "    'id': 12,\n",
              "    'is_career_track': False,\n",
              "    'level': 'Development Courses',\n",
              "    'name': 'Full Stack Web Development',\n",
              "    'offline_title': '',\n",
              "    'online_title': 'online-full-stack-node-js-web-dev-course',\n",
              "    'preview_image_url': 'https://ninjasfiles.s3.amazonaws.com/0000000000001179.png',\n",
              "    'title': 'Web Dev (Full Stack)'},\n",
              "   {'available_offline': False,\n",
              "    'available_online': True,\n",
              "    'brief_intro': 'Brief Intro',\n",
              "    'classroom_icon_url': 'https://files.codingninjas.in/0000000000003765.png',\n",
              "    'course_group_id': 1,\n",
              "    'id': 4,\n",
              "    'is_career_track': False,\n",
              "    'level': 'Advanced Courses',\n",
              "    'name': 'Interview Preparation Course',\n",
              "    'offline_title': 'classroom-interview-preparation',\n",
              "    'online_title': 'online-interview-preparation',\n",
              "    'preview_image_url': 'https://ninjasfiles.s3.amazonaws.com/0000000000001178.png',\n",
              "    'title': 'Interview Preparation'},\n",
              "   {'available_offline': False,\n",
              "    'available_online': True,\n",
              "    'brief_intro': 'Brief Intro',\n",
              "    'classroom_icon_url': 'https://files.codingninjas.in/0000000000003763.png',\n",
              "    'course_group_id': 2,\n",
              "    'id': 13,\n",
              "    'is_career_track': False,\n",
              "    'level': 'Advanced Courses',\n",
              "    'name': 'Data Science & Machine Learning Complete',\n",
              "    'offline_title': '',\n",
              "    'online_title': 'online-data-science-course',\n",
              "    'preview_image_url': 'https://ninjasfiles.s3.amazonaws.com/0000000000001371.png',\n",
              "    'title': 'Data Science'},\n",
              "   {'available_offline': False,\n",
              "    'available_online': True,\n",
              "    'brief_intro': 'Brief Intro',\n",
              "    'classroom_icon_url': 'https://files.codingninjas.in/ubuntu-brands-10404.png',\n",
              "    'course_group_id': 1,\n",
              "    'id': 66,\n",
              "    'is_career_track': False,\n",
              "    'level': 'Foundation Courses',\n",
              "    'name': 'Grokking the Operating Systems Interview',\n",
              "    'offline_title': '',\n",
              "    'online_title': 'operating-system',\n",
              "    'preview_image_url': 'https://ninjasfiles.s3.amazonaws.com/0000000000001178.png',\n",
              "    'title': 'Grokking the Operating Systems Interview'},\n",
              "   {'available_offline': False,\n",
              "    'available_online': True,\n",
              "    'brief_intro': 'Programming foundation + MERN Stack Web Development complete Career Track',\n",
              "    'classroom_icon_url': 'https://files.codingninjas.in/0000000000003777.png',\n",
              "    'course_group_id': 3,\n",
              "    'id': 36,\n",
              "    'is_career_track': True,\n",
              "    'level': 'Career Tracks',\n",
              "    'name': 'Ninja  Web Developer Career Track - NodeJS & ReactJs',\n",
              "    'offline_title': '',\n",
              "    'online_title': 'ninja-web-developer-career-track-mern-stack',\n",
              "    'preview_image_url': 'https://ninjasfiles.s3.amazonaws.com/0000000000001179.png',\n",
              "    'title': 'Python & Web Dev (MERN)'},\n",
              "   {'available_offline': False,\n",
              "    'available_online': True,\n",
              "    'brief_intro': 'Eminence',\n",
              "    'classroom_icon_url': 'https://files.codingninjas.in/0000000000003762.png',\n",
              "    'course_group_id': 1,\n",
              "    'id': 10,\n",
              "    'is_career_track': False,\n",
              "    'level': 'Advanced Courses',\n",
              "    'name': 'Competitive Programming Course',\n",
              "    'offline_title': '',\n",
              "    'online_title': 'online-competitive-programming-course',\n",
              "    'preview_image_url': 'https://ninjasfiles.s3.amazonaws.com/0000000000001177.png',\n",
              "    'title': 'Competitive Programming'},\n",
              "   {'available_offline': False,\n",
              "    'available_online': True,\n",
              "    'brief_intro': 'Programming foundation + Full Stack Web Development Career Track',\n",
              "    'classroom_icon_url': 'https://files.codingninjas.in/0000000000003777.png',\n",
              "    'course_group_id': 3,\n",
              "    'id': 17,\n",
              "    'is_career_track': True,\n",
              "    'level': 'Career Tracks',\n",
              "    'name': 'Ninja  Web Developer Career Track - NodeJS',\n",
              "    'offline_title': '',\n",
              "    'online_title': 'web-developer-career-track',\n",
              "    'preview_image_url': 'https://ninjasfiles.s3.amazonaws.com/0000000000001179.png',\n",
              "    'title': 'C++ & Web Dev (Node.js)'},\n",
              "   {'available_offline': False,\n",
              "    'available_online': True,\n",
              "    'brief_intro': 'Python Foundation',\n",
              "    'classroom_icon_url': 'https://files.codingninjas.in/0000000000003773.png',\n",
              "    'course_group_id': 1,\n",
              "    'id': 11,\n",
              "    'is_career_track': False,\n",
              "    'level': 'Foundation Courses',\n",
              "    'name': 'Python Foundation with Data Structures',\n",
              "    'offline_title': 'offline-python-course',\n",
              "    'online_title': 'online-python-course',\n",
              "    'preview_image_url': 'https://ninjasfiles.s3.amazonaws.com/0000000000001282.png',\n",
              "    'title': 'Python & Data Structures'},\n",
              "   {'available_offline': False,\n",
              "    'available_online': True,\n",
              "    'brief_intro': 'Android Development Kotlin',\n",
              "    'classroom_icon_url': 'https://files.codingninjas.in/0000000000003761.png',\n",
              "    'course_group_id': 2,\n",
              "    'id': 33,\n",
              "    'is_career_track': False,\n",
              "    'level': 'Development Courses',\n",
              "    'name': 'Android Development with Kotlin',\n",
              "    'offline_title': '',\n",
              "    'online_title': 'online-android-Development-kotlin',\n",
              "    'preview_image_url': 'https://ninjasfiles.s3.amazonaws.com/0000000000001175.png',\n",
              "    'title': 'Android (Kotlin)'},\n",
              "   {'available_offline': False,\n",
              "    'available_online': True,\n",
              "    'brief_intro': 'Programming foundation + Data Science with ML career track',\n",
              "    'classroom_icon_url': 'https://files.codingninjas.in/0000000000003778.png',\n",
              "    'course_group_id': 3,\n",
              "    'id': 18,\n",
              "    'is_career_track': True,\n",
              "    'level': 'Career Tracks',\n",
              "    'name': 'Ninja Data Scientist Career Track',\n",
              "    'offline_title': '',\n",
              "    'online_title': 'data-Scientist-career-track',\n",
              "    'preview_image_url': 'https://ninjasfiles.s3.amazonaws.com/0000000000001371.png',\n",
              "    'title': 'Data Scientist'},\n",
              "   {'available_offline': False,\n",
              "    'available_online': True,\n",
              "    'brief_intro': 'Brief Intro',\n",
              "    'classroom_icon_url': 'https://files.codingninjas.in/0000000000003770.png',\n",
              "    'course_group_id': 1,\n",
              "    'id': 21,\n",
              "    'is_career_track': False,\n",
              "    'level': 'Foundation Courses',\n",
              "    'name': 'Aptitude Preparation Course',\n",
              "    'offline_title': '',\n",
              "    'online_title': 'online-aptitude-preparation',\n",
              "    'preview_image_url': 'https://ninjasfiles.s3.amazonaws.com/0000000000001178.png',\n",
              "    'title': 'Aptitude Preparation'},\n",
              "   {'available_offline': False,\n",
              "    'available_online': True,\n",
              "    'brief_intro': 'Programming foundation + Machine Learning career track',\n",
              "    'classroom_icon_url': 'https://files.codingninjas.in/0000000000003776.png',\n",
              "    'course_group_id': 3,\n",
              "    'id': 19,\n",
              "    'is_career_track': True,\n",
              "    'level': 'Career Tracks',\n",
              "    'name': 'Ninja Machine Learning Engineer Career Track',\n",
              "    'offline_title': '',\n",
              "    'online_title': 'machine-learning-engineer-career-track',\n",
              "    'preview_image_url': 'https://ninjasfiles.s3.amazonaws.com/0000000000001181.png',\n",
              "    'title': 'Machine Learning'}]},\n",
              " 'disabled': False,\n",
              " 'error': None,\n",
              " 'external_rating': None,\n",
              " 'message': 'Courses',\n",
              " 'status': 200,\n",
              " 'update': False}"
            ]
          },
          "metadata": {},
          "execution_count": 3
        }
      ]
    },
    {
      "cell_type": "code",
      "source": [
        "all_courses = python_data['data']['courses']\n",
        "for i in all_courses :\n",
        "  print(i['title'])\n",
        "\n",
        "print()\n",
        "\n",
        "print(\"This is the total number of course is provided by the coding ninjas\",len(all_courses))"
      ],
      "metadata": {
        "colab": {
          "base_uri": "https://localhost:8080/"
        },
        "id": "TnCbyYl5e-tQ",
        "outputId": "6f8c753c-7436-4764-c138-c4e2086edc73"
      },
      "execution_count": null,
      "outputs": [
        {
          "output_type": "stream",
          "name": "stdout",
          "text": [
            "Premium Competitive Course\n",
            "Competitive Programmer\n",
            "Premium Machine Learning Course\n",
            "Data structures and Algorithms [C++/Java/Python]\n",
            "Premium Android Course\n",
            "Premium Web Dev Course\n",
            "Premium Data Science Course\n",
            "C++ & Data Structures\n",
            "Machine Learning\n",
            "Front End (React)\n",
            "System Design Course\n",
            "Java & Data Structures\n",
            "Android Developer\n",
            "Web Dev (Full Stack)\n",
            "Interview Preparation\n",
            "Data Science\n",
            "Grokking the Operating Systems Interview\n",
            "Python & Web Dev (MERN)\n",
            "Competitive Programming\n",
            "C++ & Web Dev (Node.js)\n",
            "Python & Data Structures\n",
            "Android (Kotlin)\n",
            "Data Scientist\n",
            "Aptitude Preparation\n",
            "Machine Learning\n",
            "\n",
            "This is the total number of course is provided by the coding ninjas 25\n"
          ]
        }
      ]
    },
    {
      "cell_type": "code",
      "source": [
        "y=requests.get('https://dog.ceo/api/breeds/list/all')\n",
        "\n",
        "convert_to_pyhton=y.json()   # if data is not in json formate then first of all covert it into the json format from this command . \n",
        "\n",
        "print(type(convert_to_pyhton))\n",
        "z=y.text\n",
        "pd=json.loads(z)\n",
        "print(pd)\n",
        "\n",
        "print(y.headers['Content-Type'])\n",
        "\n",
        "\n"
      ],
      "metadata": {
        "colab": {
          "base_uri": "https://localhost:8080/"
        },
        "id": "KcWDhRoZVp5B",
        "outputId": "0794a623-1a81-4c77-c809-ef30038f47ac"
      },
      "execution_count": null,
      "outputs": [
        {
          "output_type": "stream",
          "name": "stdout",
          "text": [
            "<class 'dict'>\n",
            "{'message': {'affenpinscher': [], 'african': [], 'airedale': [], 'akita': [], 'appenzeller': [], 'australian': ['shepherd'], 'basenji': [], 'beagle': [], 'bluetick': [], 'borzoi': [], 'bouvier': [], 'boxer': [], 'brabancon': [], 'briard': [], 'buhund': ['norwegian'], 'bulldog': ['boston', 'english', 'french'], 'bullterrier': ['staffordshire'], 'cattledog': ['australian'], 'chihuahua': [], 'chow': [], 'clumber': [], 'cockapoo': [], 'collie': ['border'], 'coonhound': [], 'corgi': ['cardigan'], 'cotondetulear': [], 'dachshund': [], 'dalmatian': [], 'dane': ['great'], 'deerhound': ['scottish'], 'dhole': [], 'dingo': [], 'doberman': [], 'elkhound': ['norwegian'], 'entlebucher': [], 'eskimo': [], 'finnish': ['lapphund'], 'frise': ['bichon'], 'germanshepherd': [], 'greyhound': ['italian'], 'groenendael': [], 'havanese': [], 'hound': ['afghan', 'basset', 'blood', 'english', 'ibizan', 'plott', 'walker'], 'husky': [], 'keeshond': [], 'kelpie': [], 'komondor': [], 'kuvasz': [], 'labradoodle': [], 'labrador': [], 'leonberg': [], 'lhasa': [], 'malamute': [], 'malinois': [], 'maltese': [], 'mastiff': ['bull', 'english', 'tibetan'], 'mexicanhairless': [], 'mix': [], 'mountain': ['bernese', 'swiss'], 'newfoundland': [], 'otterhound': [], 'ovcharka': ['caucasian'], 'papillon': [], 'pekinese': [], 'pembroke': [], 'pinscher': ['miniature'], 'pitbull': [], 'pointer': ['german', 'germanlonghair'], 'pomeranian': [], 'poodle': ['miniature', 'standard', 'toy'], 'pug': [], 'puggle': [], 'pyrenees': [], 'redbone': [], 'retriever': ['chesapeake', 'curly', 'flatcoated', 'golden'], 'ridgeback': ['rhodesian'], 'rottweiler': [], 'saluki': [], 'samoyed': [], 'schipperke': [], 'schnauzer': ['giant', 'miniature'], 'setter': ['english', 'gordon', 'irish'], 'sheepdog': ['english', 'shetland'], 'shiba': [], 'shihtzu': [], 'spaniel': ['blenheim', 'brittany', 'cocker', 'irish', 'japanese', 'sussex', 'welsh'], 'springer': ['english'], 'stbernard': [], 'terrier': ['american', 'australian', 'bedlington', 'border', 'cairn', 'dandie', 'fox', 'irish', 'kerryblue', 'lakeland', 'norfolk', 'norwich', 'patterdale', 'russell', 'scottish', 'sealyham', 'silky', 'tibetan', 'toy', 'welsh', 'westhighland', 'wheaten', 'yorkshire'], 'tervuren': [], 'vizsla': [], 'waterdog': ['spanish'], 'weimaraner': [], 'whippet': [], 'wolfhound': ['irish']}, 'status': 'success'}\n",
            "application/json\n"
          ]
        }
      ]
    },
    {
      "cell_type": "code",
      "source": [
        "for key ,val in pd['message'].items():\n",
        "  print(key,\" : \", len(val))"
      ],
      "metadata": {
        "colab": {
          "base_uri": "https://localhost:8080/"
        },
        "id": "K9OHqH8kkG7v",
        "outputId": "9268dab7-42b8-483d-86d2-b683ce754fc1"
      },
      "execution_count": null,
      "outputs": [
        {
          "output_type": "stream",
          "name": "stdout",
          "text": [
            "affenpinscher  :  0\n",
            "african  :  0\n",
            "airedale  :  0\n",
            "akita  :  0\n",
            "appenzeller  :  0\n",
            "australian  :  1\n",
            "basenji  :  0\n",
            "beagle  :  0\n",
            "bluetick  :  0\n",
            "borzoi  :  0\n",
            "bouvier  :  0\n",
            "boxer  :  0\n",
            "brabancon  :  0\n",
            "briard  :  0\n",
            "buhund  :  1\n",
            "bulldog  :  3\n",
            "bullterrier  :  1\n",
            "cattledog  :  1\n",
            "chihuahua  :  0\n",
            "chow  :  0\n",
            "clumber  :  0\n",
            "cockapoo  :  0\n",
            "collie  :  1\n",
            "coonhound  :  0\n",
            "corgi  :  1\n",
            "cotondetulear  :  0\n",
            "dachshund  :  0\n",
            "dalmatian  :  0\n",
            "dane  :  1\n",
            "deerhound  :  1\n",
            "dhole  :  0\n",
            "dingo  :  0\n",
            "doberman  :  0\n",
            "elkhound  :  1\n",
            "entlebucher  :  0\n",
            "eskimo  :  0\n",
            "finnish  :  1\n",
            "frise  :  1\n",
            "germanshepherd  :  0\n",
            "greyhound  :  1\n",
            "groenendael  :  0\n",
            "havanese  :  0\n",
            "hound  :  7\n",
            "husky  :  0\n",
            "keeshond  :  0\n",
            "kelpie  :  0\n",
            "komondor  :  0\n",
            "kuvasz  :  0\n",
            "labradoodle  :  0\n",
            "labrador  :  0\n",
            "leonberg  :  0\n",
            "lhasa  :  0\n",
            "malamute  :  0\n",
            "malinois  :  0\n",
            "maltese  :  0\n",
            "mastiff  :  3\n",
            "mexicanhairless  :  0\n",
            "mix  :  0\n",
            "mountain  :  2\n",
            "newfoundland  :  0\n",
            "otterhound  :  0\n",
            "ovcharka  :  1\n",
            "papillon  :  0\n",
            "pekinese  :  0\n",
            "pembroke  :  0\n",
            "pinscher  :  1\n",
            "pitbull  :  0\n",
            "pointer  :  2\n",
            "pomeranian  :  0\n",
            "poodle  :  3\n",
            "pug  :  0\n",
            "puggle  :  0\n",
            "pyrenees  :  0\n",
            "redbone  :  0\n",
            "retriever  :  4\n",
            "ridgeback  :  1\n",
            "rottweiler  :  0\n",
            "saluki  :  0\n",
            "samoyed  :  0\n",
            "schipperke  :  0\n",
            "schnauzer  :  2\n",
            "setter  :  3\n",
            "sheepdog  :  2\n",
            "shiba  :  0\n",
            "shihtzu  :  0\n",
            "spaniel  :  7\n",
            "springer  :  1\n",
            "stbernard  :  0\n",
            "terrier  :  23\n",
            "tervuren  :  0\n",
            "vizsla  :  0\n",
            "waterdog  :  1\n",
            "weimaraner  :  0\n",
            "whippet  :  0\n",
            "wolfhound  :  1\n"
          ]
        }
      ]
    },
    {
      "cell_type": "code",
      "source": [
        "for i in pd['message']['hound']:\n",
        "  print(i)"
      ],
      "metadata": {
        "colab": {
          "base_uri": "https://localhost:8080/"
        },
        "id": "J0TncRjIlPCk",
        "outputId": "91c9e95e-2852-45a2-aa39-d7e6b0219ed9"
      },
      "execution_count": null,
      "outputs": [
        {
          "output_type": "stream",
          "name": "stdout",
          "text": [
            "afghan\n",
            "basset\n",
            "blood\n",
            "english\n",
            "ibizan\n",
            "plott\n",
            "walker\n"
          ]
        }
      ]
    },
    {
      "cell_type": "markdown",
      "source": [
        "# parameter pass in api "
      ],
      "metadata": {
        "id": "v5KDX_uNoE5u"
      }
    },
    {
      "cell_type": "code",
      "source": [
        "a = requests.get('https://api.openaq.org/v1/cities',params = {\"country\":\"AE\",\"limit\":1})\n",
        "print(a.status_code)\n",
        "print(a.json())\n",
        "print(a.url)\n",
        "python_data = a.json()\n",
        "print(a)\n",
        "python_data"
      ],
      "metadata": {
        "colab": {
          "base_uri": "https://localhost:8080/"
        },
        "id": "xK9k1-ReljpU",
        "outputId": "9c0dc97f-4c01-4097-ba78-2b7d3880b6fd"
      },
      "execution_count": null,
      "outputs": [
        {
          "output_type": "stream",
          "name": "stdout",
          "text": [
            "200\n",
            "{'meta': {'name': 'openaq-api', 'license': 'CC BY 4.0d', 'website': 'https://u50g7n0cbj.execute-api.us-east-1.amazonaws.com/', 'page': 1, 'limit': 1, 'found': 3}, 'results': [{'country': 'AE', 'name': 'Abu Dhabi', 'city': 'Abu Dhabi', 'count': 67144963, 'locations': 1}]}\n",
            "https://api.openaq.org/v1/cities?country=AE&limit=1\n",
            "<Response [200]>\n"
          ]
        },
        {
          "output_type": "execute_result",
          "data": {
            "text/plain": [
              "{'meta': {'found': 3,\n",
              "  'license': 'CC BY 4.0d',\n",
              "  'limit': 1,\n",
              "  'name': 'openaq-api',\n",
              "  'page': 1,\n",
              "  'website': 'https://u50g7n0cbj.execute-api.us-east-1.amazonaws.com/'},\n",
              " 'results': [{'city': 'Abu Dhabi',\n",
              "   'count': 67144963,\n",
              "   'country': 'AE',\n",
              "   'locations': 1,\n",
              "   'name': 'Abu Dhabi'}]}"
            ]
          },
          "metadata": {},
          "execution_count": 9
        }
      ]
    },
    {
      "cell_type": "markdown",
      "source": [
        "# Meta Weather API"
      ],
      "metadata": {
        "id": "H-NQXgf_z790"
      }
    },
    {
      "cell_type": "code",
      "source": [
        "b  = requests.get(\"https://www.metaweather.com/api/location/search/?query=(query) /api/location/search/\",params={\"query\" : \"delhi\"}) # here params give is necessary its given on website of api . \n",
        "print(b.status_code)\n",
        "print(a.url)\n",
        "c=b.json()\n",
        "c"
      ],
      "metadata": {
        "colab": {
          "base_uri": "https://localhost:8080/"
        },
        "id": "4h1-EdeLtNIp",
        "outputId": "8a949c6f-0801-4579-d87f-5cc96c4c7e2f"
      },
      "execution_count": null,
      "outputs": [
        {
          "output_type": "stream",
          "name": "stdout",
          "text": [
            "200\n",
            "https://api.openaq.org/v1/cities?country=AE&limit=1\n"
          ]
        },
        {
          "output_type": "execute_result",
          "data": {
            "text/plain": [
              "[{'latt_long': '28.643999,77.091003',\n",
              "  'location_type': 'City',\n",
              "  'title': 'New Delhi',\n",
              "  'woeid': 28743736}]"
            ]
          },
          "metadata": {},
          "execution_count": 10
        }
      ]
    },
    {
      "cell_type": "markdown",
      "source": [
        "#Nasa API "
      ],
      "metadata": {
        "id": "XrEBUMp30Ix-"
      }
    },
    {
      "cell_type": "code",
      "source": [
        "# FOR DEMO KEY \n",
        "nasa = requests.get(\"https://api.nasa.gov/planetary/apod\", params = {\"api_key\": \"DEMO_KEY\"})\n",
        "print(nasa.status_code)\n",
        "print(nasa.url)\n",
        "l = nasa.json()\n",
        "l"
      ],
      "metadata": {
        "colab": {
          "base_uri": "https://localhost:8080/"
        },
        "id": "ZM9MhMkk0INQ",
        "outputId": "5fe7652b-d6d3-48b6-ba84-1a4bf9006f75"
      },
      "execution_count": null,
      "outputs": [
        {
          "output_type": "stream",
          "name": "stdout",
          "text": [
            "200\n",
            "https://api.nasa.gov/planetary/apod?api_key=DEMO_KEY\n"
          ]
        },
        {
          "output_type": "execute_result",
          "data": {
            "text/plain": [
              "{'copyright': 'Daniel Feller',\n",
              " 'date': '2022-02-11',\n",
              " 'explanation': \"Similar in size to large, bright spiral galaxies in our neighborhood, IC 342 is a mere 10 million light-years distant in the long-necked, northern constellation Camelopardalis. A sprawling island universe, IC 342 would otherwise be a prominent galaxy in our night sky, but it is hidden from clear view and only glimpsed through the veil of stars, gas and dust clouds along the plane of our own Milky Way galaxy. Even though IC 342's light is dimmed and reddened by intervening cosmic clouds, this sharp telescopic image traces the galaxy's own obscuring dust, young star clusters, and glowing pink star forming regions along spiral arms that wind far from the galaxy's core. IC 342 may have undergone a recent burst of star formation activity and is close enough to have gravitationally influenced the evolution of the local group of galaxies and the Milky Way.\",\n",
              " 'hdurl': 'https://apod.nasa.gov/apod/image/2202/IC342Feller.jpg',\n",
              " 'media_type': 'image',\n",
              " 'service_version': 'v1',\n",
              " 'title': 'IC 342: The Hidden Galaxy in Camelopardalis',\n",
              " 'url': 'https://apod.nasa.gov/apod/image/2202/IC342Feller1024.jpg'}"
            ]
          },
          "metadata": {},
          "execution_count": 11
        }
      ]
    },
    {
      "cell_type": "markdown",
      "source": [
        "# Post Function (write in api ) "
      ],
      "metadata": {
        "id": "FMdsP5PJ40rQ"
      }
    },
    {
      "cell_type": "code",
      "source": [
        "import requests\n",
        "response = requests.post(\"https://httpbin.org/post\")\n",
        "print(response.status_code)\n",
        "print(response.text)"
      ],
      "metadata": {
        "colab": {
          "base_uri": "https://localhost:8080/"
        },
        "id": "oqHJfIOj45RR",
        "outputId": "cdc28b97-ae5c-4c15-cff9-542f6caa3489"
      },
      "execution_count": null,
      "outputs": [
        {
          "output_type": "stream",
          "name": "stdout",
          "text": [
            "200\n",
            "{\n",
            "  \"args\": {}, \n",
            "  \"data\": \"\", \n",
            "  \"files\": {}, \n",
            "  \"form\": {}, \n",
            "  \"headers\": {\n",
            "    \"Accept\": \"*/*\", \n",
            "    \"Accept-Encoding\": \"gzip, deflate\", \n",
            "    \"Content-Length\": \"0\", \n",
            "    \"Host\": \"httpbin.org\", \n",
            "    \"User-Agent\": \"python-requests/2.23.0\", \n",
            "    \"X-Amzn-Trace-Id\": \"Root=1-620620ee-475719ff5f86aa7d5b4dc18c\"\n",
            "  }, \n",
            "  \"json\": null, \n",
            "  \"origin\": \"34.82.108.16\", \n",
            "  \"url\": \"https://httpbin.org/post\"\n",
            "}\n",
            "\n"
          ]
        }
      ]
    },
    {
      "cell_type": "code",
      "source": [
        "response = requests.post(\"https://httpbin.org/post\", data = { \"name \":\"pata nhi \",\n",
        "                                                             \"address\": \"pta nhi na \"})\n",
        "print(response.text)\n",
        "print(response.url)"
      ],
      "metadata": {
        "colab": {
          "base_uri": "https://localhost:8080/"
        },
        "id": "hN32mReE4zMH",
        "outputId": "41879113-6110-4668-a05e-819ce0dd1a65"
      },
      "execution_count": null,
      "outputs": [
        {
          "output_type": "stream",
          "name": "stdout",
          "text": [
            "{\n",
            "  \"args\": {}, \n",
            "  \"data\": \"\", \n",
            "  \"files\": {}, \n",
            "  \"form\": {\n",
            "    \"address\": \"pta nhi na \", \n",
            "    \"name \": \"pata nhi \"\n",
            "  }, \n",
            "  \"headers\": {\n",
            "    \"Accept\": \"*/*\", \n",
            "    \"Accept-Encoding\": \"gzip, deflate\", \n",
            "    \"Content-Length\": \"35\", \n",
            "    \"Content-Type\": \"application/x-www-form-urlencoded\", \n",
            "    \"Host\": \"httpbin.org\", \n",
            "    \"User-Agent\": \"python-requests/2.23.0\", \n",
            "    \"X-Amzn-Trace-Id\": \"Root=1-620620f2-4f29d9c403eabd916bb7c56e\"\n",
            "  }, \n",
            "  \"json\": null, \n",
            "  \"origin\": \"34.82.108.16\", \n",
            "  \"url\": \"https://httpbin.org/post\"\n",
            "}\n",
            "\n",
            "https://httpbin.org/post\n"
          ]
        }
      ]
    },
    {
      "cell_type": "code",
      "source": [
        "response = requests.post(\"https://httpbin.org/post\", data = { \"name \":[\"pata nhi \",\"bosdk mana kiya na ek ba \"], # here i am giving the two value of name key . b\n",
        "                                                             \"address\": \"pta nhi na \"})\n",
        "print(response.text)\n",
        "print(response.url)"
      ],
      "metadata": {
        "colab": {
          "base_uri": "https://localhost:8080/"
        },
        "id": "CBeofBtK6fhA",
        "outputId": "80fc60b5-d863-416c-f641-e2f8a5a81fa3"
      },
      "execution_count": null,
      "outputs": [
        {
          "output_type": "stream",
          "name": "stdout",
          "text": [
            "{\n",
            "  \"args\": {}, \n",
            "  \"data\": \"\", \n",
            "  \"files\": {}, \n",
            "  \"form\": {\n",
            "    \"address\": \"pta nhi na \", \n",
            "    \"name \": [\n",
            "      \"pata nhi \", \n",
            "      \"bosdk mana kiya na ek ba \"\n",
            "    ]\n",
            "  }, \n",
            "  \"headers\": {\n",
            "    \"Accept\": \"*/*\", \n",
            "    \"Accept-Encoding\": \"gzip, deflate\", \n",
            "    \"Content-Length\": \"67\", \n",
            "    \"Content-Type\": \"application/x-www-form-urlencoded\", \n",
            "    \"Host\": \"httpbin.org\", \n",
            "    \"User-Agent\": \"python-requests/2.23.0\", \n",
            "    \"X-Amzn-Trace-Id\": \"Root=1-620620f6-739c74ee3a3585cc69858643\"\n",
            "  }, \n",
            "  \"json\": null, \n",
            "  \"origin\": \"34.82.108.16\", \n",
            "  \"url\": \"https://httpbin.org/post\"\n",
            "}\n",
            "\n",
            "https://httpbin.org/post\n"
          ]
        }
      ]
    },
    {
      "cell_type": "markdown",
      "source": [
        "# Authentication"
      ],
      "metadata": {
        "id": "r7Lk7uJa8Opa"
      }
    },
    {
      "cell_type": "code",
      "source": [
        "#https://api.github.com/user\n",
        "import requests\n",
        "from requests.auth import HTTPBasicAuth\n",
        "a= requests.get(\"https://api.github.com/users\", auth= ('abcd@123.com','1232001'))\n",
        "print(a.status_code)"
      ],
      "metadata": {
        "id": "afYcD56H6wes",
        "colab": {
          "base_uri": "https://localhost:8080/"
        },
        "outputId": "fbbe36a4-7517-4b67-992c-912f805ff0ab"
      },
      "execution_count": null,
      "outputs": [
        {
          "output_type": "stream",
          "name": "stdout",
          "text": [
            "200\n"
          ]
        }
      ]
    },
    {
      "cell_type": "code",
      "source": [
        "# \n",
        "import json\n",
        "info={'name':\"test_repo\",\"description\":\"created via the api \",\"auto_init\" : \"true\"}\n",
        "\n",
        "a=requests.post(\"https://api.github.com/user/repos\", auth= ('Deendayal6265','Dinu@2003'),data=json.dumps(info))  # json.dump is convert python data into the json format . \n"
      ],
      "metadata": {
        "id": "eZ9HpvNxCw-M"
      },
      "execution_count": null,
      "outputs": []
    },
    {
      "cell_type": "code",
      "source": [
        ""
      ],
      "metadata": {
        "id": "_3GtJfXpG9pj"
      },
      "execution_count": null,
      "outputs": []
    },
    {
      "cell_type": "markdown",
      "source": [
        "# Reddit API "
      ],
      "metadata": {
        "id": "U3ABO2J1G-cs"
      }
    },
    {
      "cell_type": "code",
      "source": [
        " # CLIENT ID :- bSGcJoxJZ2nG04pm7u8sZQ\n",
        " # SECRET KEY - \tJ4Kg9FopF1bknR2RzGBUjPkNKBI--Q\n",
        "\n"
      ],
      "metadata": {
        "id": "Bvlkb9K-HAv6"
      },
      "execution_count": null,
      "outputs": []
    },
    {
      "cell_type": "code",
      "source": [
        "import requests\n",
        "import json\n"
      ],
      "metadata": {
        "id": "MbF6aPtdbM33"
      },
      "execution_count": null,
      "outputs": []
    },
    {
      "cell_type": "code",
      "source": [
        "data = {'cliend_id':'bSGcJoxJZ2nG04pm7u8sZQ', 'response-type':'code','state':'random-123','redirect_url': 'https://www.google.co.in/','scope':'read'}\n",
        "response= requests.get('https://wwww.reddit.com/api/v1/authorize',params=data)\n",
        "\n",
        "print(response.url)"
      ],
      "metadata": {
        "colab": {
          "base_uri": "https://localhost:8080/"
        },
        "id": "80oKA0cXbPV-",
        "outputId": "c0612796-e05b-4c7a-c35f-5a46e1937dd0"
      },
      "execution_count": null,
      "outputs": [
        {
          "output_type": "stream",
          "name": "stdout",
          "text": [
            "https://www.reddit.com/r/wwww/api/v1/authorize?cliend_id=bSGcJoxJZ2nG04pm7u8sZQ&response-type=code&state=random-123&redirect_url=https%3A%2F%2Fwww.google.co.in%2F&scope=read\n"
          ]
        }
      ]
    },
    {
      "cell_type": "code",
      "source": [
        ""
      ],
      "metadata": {
        "id": "eSyG4X3VcqMb"
      },
      "execution_count": null,
      "outputs": []
    }
  ]
}